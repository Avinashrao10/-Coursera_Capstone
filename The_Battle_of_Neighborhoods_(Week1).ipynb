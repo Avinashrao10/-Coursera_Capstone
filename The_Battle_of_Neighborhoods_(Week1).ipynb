{
  "nbformat": 4,
  "nbformat_minor": 0,
  "metadata": {
    "colab": {
      "name": "The Battle of Neighborhoods (Week1).ipynb",
      "provenance": [],
      "collapsed_sections": [],
      "include_colab_link": true
    },
    "kernelspec": {
      "name": "python3",
      "display_name": "Python 3"
    }
  },
  "cells": [
    {
      "cell_type": "markdown",
      "metadata": {
        "id": "view-in-github",
        "colab_type": "text"
      },
      "source": [
        "<a href=\"https://colab.research.google.com/github/Avinashrao10/-Coursera_Capstone/blob/master/The_Battle_of_Neighborhoods_(Week1).ipynb\" target=\"_parent\"><img src=\"https://colab.research.google.com/assets/colab-badge.svg\" alt=\"Open In Colab\"/></a>"
      ]
    },
    {
      "cell_type": "markdown",
      "metadata": {
        "id": "WHJKixxfTJ_w",
        "colab_type": "text"
      },
      "source": [
        "# Introduction: Business Problem \n",
        "In this project we will try to find an optimal location for a restaurant. Specifically, this report will be targeted to stakeholders interested in opening an Indian restaurant in Manhattan,New York.\n",
        "\n",
        "Since there are lots of restaurants in New York we will try to detect locations that are not already crowded with restaurants. We are also particularly interested in areas with no Indian restaurants.\n",
        "\n",
        "\n",
        "\n",
        "# Data \n",
        "**Based on definition of our problem, factors that will influence our decission are:**\n",
        "\n",
        "number of existing restaurants in the neighborhood \n",
        "number of and distance to Indian restaurants in the neighborhood\n",
        "\n",
        "**Following data sources will be needed to extract/generate the required information:**\n",
        "\n",
        "Neighbourhood approximate addresses  will be obtained using FoureSquare API. \n",
        "\n",
        "We will use FoureSquare to get nearby Restaurants in Neighbourhood.\n",
        "\n",
        "We will cluster Neighbourhoods based on number of Restaurants \n",
        "\n",
        "After analysing above data we can decide which locations or Neighbourhoods are optimal for starting new Indian Restaurant.\n",
        "\n",
        "\n"
      ]
    },
    {
      "cell_type": "code",
      "metadata": {
        "id": "aaDlPZKHWKZk",
        "colab_type": "code",
        "colab": {}
      },
      "source": [
        ""
      ],
      "execution_count": 0,
      "outputs": []
    }
  ]
}